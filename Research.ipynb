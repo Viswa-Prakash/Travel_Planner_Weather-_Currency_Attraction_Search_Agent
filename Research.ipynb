{
 "cells": [
  {
   "cell_type": "code",
   "execution_count": 1,
   "id": "b39f36e3",
   "metadata": {},
   "outputs": [],
   "source": [
    "import os\n",
    "from dotenv import load_dotenv\n",
    "load_dotenv()\n",
    "\n",
    "os.environ[\"OPENAI_API_KEY\"] = os.getenv(\"OPENAI_API_KEY\")\n",
    "os.environ[\"SERPER_API_KEY\"] = os.getenv(\"SERPER_API_KEY\")\n",
    "os.environ[\"GOOGLE_CSE_ID\"] = os.getenv(\"GOOGLE_CSE_ID\")\n",
    "os.environ[\"GOOGLE_API_KEY\"] = os.getenv(\"GOOGLE_API_KEY\")\n",
    "os.environ[\"OPENWEATHERMAP_API_KEY\"] = os.getenv(\"OPENWEATHERMAP_API_KEY\")\n",
    "alphavantage_api_key = os.getenv(\"ALPHA_VANTAGE_API_KEY\")\n"
   ]
  },
  {
   "cell_type": "code",
   "execution_count": 2,
   "id": "6370499e",
   "metadata": {},
   "outputs": [],
   "source": [
    "from typing_extensions import TypedDict, Annotated\n",
    "\n",
    "from langchain.chat_models import init_chat_model\n",
    "from langchain.tools import Tool\n",
    "from langchain_community.tools import tool\n",
    "from langchain_core.messages import HumanMessage, AnyMessage\n",
    "\n",
    "from langchain_community.utilities import GoogleSerperAPIWrapper\n",
    "from langchain_google_community import GoogleSearchAPIWrapper\n",
    "from langchain_community.utilities import OpenWeatherMapAPIWrapper\n",
    "from langchain_community.utilities.alpha_vantage import AlphaVantageAPIWrapper\n",
    "from langchain_experimental.tools.python.tool import PythonREPLTool \n",
    "\n",
    "\n",
    "from langgraph.graph import StateGraph, END, START\n",
    "from langgraph.prebuilt import ToolNode\n",
    "from langgraph.graph.message import add_messages\n",
    "\n",
    "from IPython.display import Image, display"
   ]
  },
  {
   "cell_type": "code",
   "execution_count": 3,
   "id": "60c1ffe6",
   "metadata": {},
   "outputs": [],
   "source": [
    "llm = init_chat_model(\"gpt-4.1\", temperature=0.7)"
   ]
  },
  {
   "cell_type": "code",
   "execution_count": 4,
   "id": "93fba9f9",
   "metadata": {},
   "outputs": [],
   "source": [
    "serper_tool = Tool(\n",
    "    name=\"serper\",\n",
    "    description=\"Search news, events, or facts using Serper-powered web search.\",\n",
    "    func=GoogleSerperAPIWrapper().run,\n",
    ")\n",
    "\n",
    "google_search_tool = Tool(\n",
    "    name=\"google_search\",\n",
    "    description=\"Search for restaurants or places with Google Search.\",\n",
    "    func=GoogleSearchAPIWrapper().run,\n",
    ")\n",
    "\n",
    "weather_tool = Tool(\n",
    "    name=\"openweathermap\",\n",
    "    description=\"Fetch current weather for any city.\",\n",
    "    func=OpenWeatherMapAPIWrapper().run,\n",
    ")\n",
    "\n",
    "alpha_vantage_api = AlphaVantageAPIWrapper(alphavantage_api_key=alphavantage_api_key)\n",
    "\n",
    "@tool\n",
    "def currency_tool(from_currency: str, to_currency: str) -> str:\n",
    "    \"\"\"Get exchange rate between two currencies.\"\"\"\n",
    "    return alpha_vantage_api.run(from_currency=from_currency, to_currency=to_currency)\n",
    "\n",
    "repl_tool = PythonREPLTool()\n",
    "\n",
    "tools = [serper_tool, google_search_tool, weather_tool, currency_tool, repl_tool]"
   ]
  },
  {
   "cell_type": "code",
   "execution_count": 5,
   "id": "4cb9b3c5",
   "metadata": {},
   "outputs": [],
   "source": [
    "# Create the list of properly wrapped Tool instances\n",
    "tools = [serper_tool, google_search_tool, weather_tool, currency_tool, repl_tool]"
   ]
  },
  {
   "cell_type": "code",
   "execution_count": 6,
   "id": "b8cdb601",
   "metadata": {},
   "outputs": [],
   "source": [
    "react_prompt = \"\"\"\n",
    "You are a helpful and intelligent Travel Planner agent. Your role is to assist users in planning trips by:\n",
    "\n",
    "- Providing accurate **weather forecasts** for cities.\n",
    "- Giving **real-time currency exchange rates** between two currencies.\n",
    "- Suggesting **popular events and attractions** at the destination.\n",
    "- Recommending **hotels and restaurants** based on location and query.\n",
    "\n",
    "You have access to various tools to help gather information.\n",
    "\n",
    "Use the format below to reason through your answer:\n",
    "\n",
    "Thought: You think about what to do next  \n",
    "Action: The action you take, using one of the tools  \n",
    "Action Input: The input to the action  \n",
    "Observation: The result of the action\n",
    "\n",
    "Repeat **[Thought → Action → Observation]** as needed.\n",
    "\n",
    "**When you have enough information, respond with:**  \n",
    "Final Answer: <your summarized travel advice>\n",
    "\n",
    "**Do NOT call any tools after you provide the Final Answer.**\n",
    "\"\"\"\n"
   ]
  },
  {
   "cell_type": "code",
   "execution_count": 7,
   "id": "984a9ddc",
   "metadata": {},
   "outputs": [],
   "source": [
    "class State(TypedDict):\n",
    "    messages : Annotated[list[AnyMessage], add_messages]"
   ]
  },
  {
   "cell_type": "code",
   "execution_count": 8,
   "id": "64b9d648",
   "metadata": {},
   "outputs": [],
   "source": [
    "def reasoning_node(state: State):\n",
    "    # LLM with bound tools to enable tool-calling\n",
    "    llm_with_tools = llm.bind_tools(tools)\n",
    "    messages = [{\"role\": \"system\", \"content\": react_prompt}] + state[\"messages\"]\n",
    "    response = llm_with_tools.invoke(messages)\n",
    "    return {\"messages\": state[\"messages\"] + [response]}"
   ]
  },
  {
   "cell_type": "code",
   "execution_count": 9,
   "id": "c75472f2",
   "metadata": {},
   "outputs": [],
   "source": [
    "tool_node = ToolNode(tools = tools)"
   ]
  },
  {
   "cell_type": "code",
   "execution_count": 10,
   "id": "df3eb127",
   "metadata": {},
   "outputs": [],
   "source": [
    "def should_continue(state: State):\n",
    "    last_message = state[\"messages\"][-1]\n",
    "    if hasattr(last_message, \"content\") and \"final answer:\" in last_message.content.lower():\n",
    "        return \"end\"\n",
    "    if hasattr(last_message, \"tool_calls\") and last_message.tool_calls:\n",
    "        return \"continue\"\n",
    "    if len(state[\"messages\"]) > 20:\n",
    "        return \"end\"\n",
    "    # Otherwise, no tool_calls, not a final answer, so end gracefully\n",
    "    return \"end\""
   ]
  },
  {
   "cell_type": "code",
   "execution_count": 11,
   "id": "112d999e",
   "metadata": {},
   "outputs": [
    {
     "data": {
      "image/png": "[encoded data removed]",
      "text/plain": [
       "<IPython.core.display.Image object>"
      ]
     },
     "metadata": {},
     "output_type": "display_data"
    }
   ],
   "source": [
    "builder = StateGraph(State)\n",
    "builder.add_node(\"reason\", reasoning_node)\n",
    "builder.add_node(\"action\", tool_node)\n",
    "builder.set_entry_point(\"reason\")\n",
    "builder.add_conditional_edges(\n",
    "    \"reason\",\n",
    "    should_continue,\n",
    "    {\n",
    "        \"continue\": \"action\",\n",
    "        \"end\": END,\n",
    "    }\n",
    ")\n",
    "builder.add_edge(\"action\", \"reason\")\n",
    "agent = builder.compile()\n",
    "\n",
    "display(Image(agent.get_graph().draw_mermaid_png()))"
   ]
  },
  {
   "cell_type": "code",
   "execution_count": 12,
   "id": "48210e5a",
   "metadata": {},
   "outputs": [
    {
     "name": "stdout",
     "output_type": "stream",
     "text": [
      "Final Answer: \n",
      "Here’s a summary for your Tokyo trip planning in March:\n",
      "\n",
      "- Typical Weather: March in Tokyo is generally cool and pleasant, transitioning from winter to spring. Expect average highs around 13°C (55°F) and lows near 5°C (41°F). Occasional rain is possible, and cherry blossoms may begin blooming late in the month.\n",
      "\n",
      "- Currency Exchange: 100,000 Indian Rupees is currently about 169,790 Japanese Yen (based on today’s exchange rate of 1 INR ≈ 1.70 JPY).\n",
      "\n",
      "- Popular Events in March:\n",
      "  1. Plum Blossom Festival at Jindai Botanical Gardens.\n",
      "  2. Tokyo Marathon (usually early March), plus the start of cherry blossom season and related festivals.\n",
      "\n",
      "- Nearby Vegan Restaurants:\n",
      "  1. T’s Tantan (vegan ramen, Tokyo Station area)\n",
      "  2. Ain Soph. Ginza (creative vegan dining, Ginza area)\n",
      "\n",
      "Let me know if you want hotel recommendations or more details on events!\n"
     ]
    }
   ],
   "source": [
    "query = (\"\"\"\n",
    "         We’re planning a Tokyo trip in March. \n",
    "         What’s the typical weather.\n",
    "         How much is 100,000 indian rupee in yen now. \n",
    "         List two popular events and nearby vegan restaurants.\n",
    "         \"\"\")\n",
    "\n",
    "state = {\"messages\": [HumanMessage(content=query)]}\n",
    "result = agent.invoke(state)\n",
    "\n",
    "print(result[\"messages\"][-1].content)\n"
   ]
  },
  {
   "cell_type": "code",
   "execution_count": 13,
   "id": "c6a1c1e2",
   "metadata": {},
   "outputs": [
    {
     "name": "stdout",
     "output_type": "stream",
     "text": [
      "Hello! How can I assist you with your travel plans today?\n"
     ]
    }
   ],
   "source": [
    "query = (\"Hi\")\n",
    "\n",
    "state = {\"messages\": [HumanMessage(content=query)]}\n",
    "result = agent.invoke(state)\n",
    "\n",
    "print(result[\"messages\"][-1].content)\n"
   ]
  },
  {
   "cell_type": "code",
   "execution_count": null,
   "id": "04e6461b",
   "metadata": {},
   "outputs": [],
   "source": []
  }
 ],
 "metadata": {
  "kernelspec": {
   "display_name": "reactagent",
   "language": "python",
   "name": "python3"
  },
  "language_info": {
   "codemirror_mode": {
    "name": "ipython",
    "version": 3
   },
   "file_extension": ".py",
   "mimetype": "text/x-python",
   "name": "python",
   "nbconvert_exporter": "python",
   "pygments_lexer": "ipython3",
   "version": "3.13.0"
  }
 },
 "nbformat": 4,
 "nbformat_minor": 5
}
